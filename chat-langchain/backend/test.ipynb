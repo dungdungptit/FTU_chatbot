{
 "cells": [
  {
   "cell_type": "code",
   "execution_count": 5,
   "metadata": {},
   "outputs": [
    {
     "name": "stdout",
     "output_type": "stream",
     "text": [
      "\n",
      "\n",
      "\u001b[1m> Entering new AgentExecutor chain...\u001b[0m\n",
      "\u001b[32;1m\u001b[1;3m Yes.\n",
      "Follow up: Who is the reigning men's U.S. Open champion?\u001b[0m\n",
      "Intermediate answer: \u001b[36;1m\u001b[1;3mCurrent champions Jannik Sinner, 2024 men's singles champion. Aryna Sabalenka, 2024 women's singles champion. It was her third major title. Max Purcell was part of the 2024 winning men's doubles team.\u001b[0m\n",
      "\u001b[32;1m\u001b[1;3mFollow up: What is the name of the reigning men's U.S. Open champion?\u001b[0m\n",
      "Intermediate answer: \u001b[36;1m\u001b[1;3mList of US Open men's singles champions ; 5: Jimmy Connors 5: Pete Sampras 5: Roger Federer · 7: Richard Sears · 5: Roger Federer. List of Winners of the USA Open - Men's Singles ; 2021, Daniil Medvedev (Russia), Novak Đoković (Serbia) ; 2020, Dominic Thiem (Austria), Alexander Zverev ( ... Missing: reigning | Show results with:reigning. In the men's singles final, Novak Djokovic of Serbia swept past Argentina's Juan Martin del Potro to win his second consecutive major, his third US Open crown ... Year, 2024. Champion, Bryson DeChambeau. Score, 274 (-6). Site, Pinehurst Resort & C.C.. City, Village of Pinehurst. State, N.C.. Entries, 10,052. Men's Grand Slam Title Winners. YEAR, TOURNAMENT, WINNER, RUNNER-UP. 2025, Australian Open, Jannik Sinner · Alexander Zverev. 2024, U.S. Open, Jannik Sinner ... Missing: reigning | Show results with:reigning. Winners ; 2020 · United States · Bryson DeChambeau, 274, −6, 6 strokes ; 2019 · United States · Gary Woodland, 271, −13, 3 strokes. Men's Singles US Open Winners in Open Era (1968 - 2023) ; 2019, Rafael Nadal, ESP ; 2020, Dominic Thiem, AUT ; 2021, Daniil Medvedev, RUS ; 2022 ... Us Open Men's Singles Winners ; 2023, Novak Djokovic (SRB), Daniil Medvedev (RUS) ; 2022, Carlos Alcaraz (ESP), Casper Ruud (NOR) ; 2021, Daniil Medvedev (RUS) ... Missing: reigning | Show results with:reigning. US Open: Men's singles champions in the Open Era ; 2019, Novak Djokovic, Serbia ; 2020, Dominic Thiem, Austria ; 2021, Daniil Medvedev, Russia. Missing: reigning | Show results with:reigning. US Open Champions ; 2023, Wyndham Clark, USA ; 2022, Matt Fitzpatrick, England ; 2021, Jon Rahm, Spain ; 2020, Bryson DeChambeau, USA ...\u001b[0m\n",
      "\u001b[32;1m\u001b[1;3mFollow up: What is the hometown of the reigning men's U.S. Open champion?\u001b[0m\n",
      "Intermediate answer: \u001b[36;1m\u001b[1;3mNewport (1881–1914), Forest Hills (1915–1920, 1924–1977), and Philadelphia (1921–1923) held the event before it settled in 1978. Discover the rich history of the US Open Tennis Championships with our year-by-year archive of tournament highlights and memorable moments. The United States Open Championship, commonly known as the U.S. Open, is the annual open national championship of golf in the United States. Men's Singles US Open Winners in Open Era (1968 - 2023) ; Year, Champion, Country ; 1968, Arthur Ashe, USA ; 1969, Rod Laver, AUS ; 1970, Ken ... The Los Angeles native became one of the pillars of the early professional game, and his popularity helped pave the way for the dawn of Open tennis and the ... Missing: reigning | Show results with:reigning. A year later, the Washington Open was born in Rock Creek Park, and Ashe kept his promise. “He played the tournament eleven times and won it all in 1973,” said ... Find out every men's tennis Grand Slam winner throughout history, here at ESPN.com. Missing: reigning | Show results with:reigning. Carlos Alcaraz is the two-time reigning BNP Paribas Open champion and became the youngest man in tournament history to win Indian Wells with his 2023 title. Born in 1981 in Switzerland, Roger Federer was among his country's top junior tennis players by age 11. He turned pro in 1998, Wimbledon Championships, internationally known tennis championships played annually in London at Wimbledon. The tournament, held in late June and early July ...\u001b[0m\n",
      "\u001b[32;1m\u001b[1;3mFollow up: Who is the reigning men's U.S. Open champion?\u001b[0m\n",
      "Intermediate answer: \u001b[36;1m\u001b[1;3mCurrent champions Jannik Sinner, 2024 men's singles champion. Aryna Sabalenka, 2024 women's singles champion. It was her third major title. Max Purcell was part of the 2024 winning men's doubles team.\u001b[0m\n",
      "\u001b[32;1m\u001b[1;3mFollow up: What is the name of the reigning men's U.S. Open champion?\u001b[0m\n",
      "Intermediate answer: \u001b[36;1m\u001b[1;3mList of US Open men's singles champions ; 5: Jimmy Connors 5: Pete Sampras 5: Roger Federer · 7: Richard Sears · 5: Roger Federer. List of Winners of the USA Open - Men's Singles ; 2021, Daniil Medvedev (Russia), Novak Đoković (Serbia) ; 2020, Dominic Thiem (Austria), Alexander Zverev ( ... Missing: reigning | Show results with:reigning. In the men's singles final, Novak Djokovic of Serbia swept past Argentina's Juan Martin del Potro to win his second consecutive major, his third US Open crown ... Year, 2024. Champion, Bryson DeChambeau. Score, 274 (-6). Site, Pinehurst Resort & C.C.. City, Village of Pinehurst. State, N.C.. Entries, 10,052. Men's Grand Slam Title Winners. YEAR, TOURNAMENT, WINNER, RUNNER-UP. 2025, Australian Open, Jannik Sinner · Alexander Zverev. 2024, U.S. Open, Jannik Sinner ... Missing: reigning | Show results with:reigning. Winners ; 2020 · United States · Bryson DeChambeau, 274, −6, 6 strokes ; 2019 · United States · Gary Woodland, 271, −13, 3 strokes. Men's Singles US Open Winners in Open Era (1968 - 2023) ; 2019, Rafael Nadal, ESP ; 2020, Dominic Thiem, AUT ; 2021, Daniil Medvedev, RUS ; 2022 ... Us Open Men's Singles Winners ; 2023, Novak Djokovic (SRB), Daniil Medvedev (RUS) ; 2022, Carlos Alcaraz (ESP), Casper Ruud (NOR) ; 2021, Daniil Medvedev (RUS) ... Missing: reigning | Show results with:reigning. Men's Singles Champions 1881 - 2024 ; 2024 · Jannik Sinner · Taylor Fritz ; 2023 · Novak Djokovic · Daniil Medvedev ; 2022 · Carlos Alcaraz · Casper Ruud ; 2021 · Daniil ... Missing: reigning | Show results with:reigning. US Open Champions ; 2023, Wyndham Clark, USA ; 2022, Matt Fitzpatrick, England ; 2021, Jon Rahm, Spain ; 2020, Bryson DeChambeau, USA ...\u001b[0m\n",
      "\u001b[32;1m\u001b[1;3mSo the final answer is: Jannik Sinner\u001b[0m\n",
      "\n",
      "\u001b[1m> Finished chain.\u001b[0m\n"
     ]
    },
    {
     "data": {
      "text/plain": [
       "'Jannik Sinner'"
      ]
     },
     "execution_count": 5,
     "metadata": {},
     "output_type": "execute_result"
    }
   ],
   "source": [
    "from langchain.agents import Tool, initialize_agent\n",
    "from langchain.llms import OpenAI\n",
    "from langchain.tools import DuckDuckGoSearchRun\n",
    "from dotenv import load_dotenv\n",
    "\n",
    "load_dotenv()\n",
    "from langchain.agents import Tool, initialize_agent\n",
    "from langchain.llms import OpenAI\n",
    "from langchain_community.utilities import GoogleSerperAPIWrapper\n",
    "from dotenv import load_dotenv\n",
    "from langchain.agents import AgentType\n",
    "\n",
    "load_dotenv()\n",
    "\n",
    "# Tạo tool từ Serper\n",
    "search = GoogleSerperAPIWrapper()\n",
    "llm = OpenAI(temperature=0)\n",
    "\n",
    "tools = [\n",
    "    Tool(\n",
    "        name=\"Intermediate Answer\",\n",
    "        func=search.run,\n",
    "        description=\"useful for when you need to ask with search\"\n",
    "    )\n",
    "]\n",
    "\n",
    "self_ask_with_search = initialize_agent(tools, llm, agent=AgentType.SELF_ASK_WITH_SEARCH, verbose=True)\n",
    "self_ask_with_search.run(\"What is the hometown of the reigning men's U.S. Open champion?\")"
   ]
  },
  {
   "cell_type": "code",
   "execution_count": 1,
   "metadata": {},
   "outputs": [],
   "source": [
    "import os"
   ]
  },
  {
   "cell_type": "code",
   "execution_count": null,
   "metadata": {},
   "outputs": [
    {
     "data": {
      "text/plain": [
       "['chi_tieu_tuyen_sinh',\n",
       " 'co_hoi_viec_lam',\n",
       " 'nhap_hoc',\n",
       " 'de_an_2024',\n",
       " 'diem_trung_tuyen',\n",
       " 'nganh_va_chuyen_nganh',\n",
       " 'le_phi',\n",
       " 'hoc_bong',\n",
       " 'ky_tuc_xa',\n",
       " 'co_so_dao_tao',\n",
       " 'chinh_sach_ho_tro_va_uu_tien',\n",
       " 'hinh_thuc_dao_tao',\n",
       " 'VectorDB',\n",
       " 'hop_tac_doi_ngoai',\n",
       " 'ban_tuyen_sinh',\n",
       " 'thong_tin_truong',\n",
       " 'doi_tuong_uu_tien_va_khu_vuc_uu_tien',\n",
       " 'phuong_thuc_xet_tuyen',\n",
       " 'diem_chuan_cua_truong_dai_hoc_ngoai_thuong_(tuan_test)',\n",
       " 'VectorDB_RAG',\n",
       " 'hoc_phi']"
      ]
     },
     "execution_count": 2,
     "metadata": {},
     "output_type": "execute_result"
    }
   ],
   "source": [
    "folders = os.listdir(\"./data_137/\")"
   ]
  },
  {
   "cell_type": "code",
   "execution_count": 5,
   "metadata": {},
   "outputs": [],
   "source": [
    "folders = ['chi_tieu_tuyen_sinh',\n",
    " 'co_hoi_viec_lam',\n",
    " 'nhap_hoc',\n",
    " 'de_an_2024',\n",
    " 'diem_trung_tuyen',\n",
    " 'nganh_va_chuyen_nganh',\n",
    " 'le_phi',\n",
    " 'hoc_bong',\n",
    " 'ky_tuc_xa',\n",
    " 'co_so_dao_tao',\n",
    " 'chinh_sach_ho_tro_va_uu_tien',\n",
    " 'hinh_thuc_dao_tao',\n",
    " 'hop_tac_doi_ngoai',\n",
    " 'ban_tuyen_sinh',\n",
    " 'thong_tin_truong',\n",
    " 'doi_tuong_uu_tien_va_khu_vuc_uu_tien',\n",
    " 'phuong_thuc_xet_tuyen',\n",
    " 'diem_chuan_cua_truong_dai_hoc_ngoai_thuong_(tuan_test)',\n",
    " 'hoc_phi']"
   ]
  },
  {
   "cell_type": "code",
   "execution_count": 7,
   "metadata": {},
   "outputs": [
    {
     "data": {
      "text/plain": [
       "{'chi_tieu_tuyen_sinh': ['chi_tieu_chi_tiet_cua_tung_phuong_thuc_xet_tuyen.txt',\n",
       "  'chi_tieu_tuyen_sinh.txt'],\n",
       " 'co_hoi_viec_lam': ['co_hoi_viec_lam_cac_nganh.txt',\n",
       "  'ty_le_viec_lam.txt',\n",
       "  'co_hoi_nghe_nghiep.txt'],\n",
       " 'nhap_hoc': [],\n",
       " 'de_an_2024': [],\n",
       " 'diem_trung_tuyen': [],\n",
       " 'nganh_va_chuyen_nganh': ['cac_nganh_clc.txt',\n",
       "  'nganh_to_hop_d03.txt',\n",
       "  'nganh_hoc_hot_2023.txt',\n",
       "  'danh_sach_cac_nganh.txt',\n",
       "  'cac_nganh_chuong_trinh_tien_tien.txt',\n",
       "  'cac_nganh_moi_2024.txt',\n",
       "  'nganh_to_hop_a00_a01.txt',\n",
       "  'cac_chuong_trinh_dao_tao.txt',\n",
       "  'cac_chuong_trinh_lien_ket_quoc_te.txt',\n",
       "  'nganh_to_hop_d07.txt',\n",
       "  'cac_chuong_trinh_tieu_chuan.txt',\n",
       "  'nganh_to_hop_d06.txt',\n",
       "  'nganh_hoc_hot_2024.txt',\n",
       "  'nganh_to_hop_d04.txt',\n",
       "  'nganh_to_hop_d01.txt'],\n",
       " 'le_phi': [],\n",
       " 'hoc_bong': ['chinh_sach_hoc_bong.txt'],\n",
       " 'ky_tuc_xa': ['co_so_vat_chat_huong_dan_dang_ky_ky_tuc_xa.txt'],\n",
       " 'co_so_dao_tao': ['co_so_dao_tao.txt'],\n",
       " 'chinh_sach_ho_tro_va_uu_tien': ['chinh_sach_uu_tien.txt'],\n",
       " 'hinh_thuc_dao_tao': ['chuong_trinh_dao_tao_cac_nganh.txt',\n",
       "  'cac_linh_vuc_dao_tao.txt'],\n",
       " 'hop_tac_doi_ngoai': [],\n",
       " 'ban_tuyen_sinh': [],\n",
       " 'thong_tin_truong': ['thong_tin_truong.txt',\n",
       "  'so_luong_sinh_vien.txt',\n",
       "  'gioi_thieu_cac_vien_khoa.txt'],\n",
       " 'doi_tuong_uu_tien_va_khu_vuc_uu_tien': ['diem_cong_doi_tuong_uu_tien.txt',\n",
       "  'doi_tuong_uu_tien.txt',\n",
       "  'diem_uu_tien_doi_tuong_chinh_sach_khu_vuc.txt',\n",
       "  'dieu_kien_le_phi_uu_tien_mien_giam_ho_tro.txt',\n",
       "  'khu_vuc_uu_tien.txt',\n",
       "  'diem_cong_khu_vuc_uu_tien.txt'],\n",
       " 'phuong_thuc_xet_tuyen': ['thoi_gian_cong_bo_ket_qua_xet_tuyen_som.txt',\n",
       "  'doi_tuong_tuyen_thang.txt',\n",
       "  'giay_to_phuong_thuc_1.txt',\n",
       "  'giay_to_phuong_thuc_3.txt',\n",
       "  'phuong_thuc_3.txt',\n",
       "  'giay_to_phuong_thuc_5.txt',\n",
       "  'quy_trinh_dang_ky_va_nop_ho_so_phuong_thuc_3.txt',\n",
       "  'phuong_thuc_2.txt',\n",
       "  'ho_so_hop_le.txt',\n",
       "  'giay_to_phuong_thuc_2.txt',\n",
       "  'quy_trinh_dang_ky_va_nop_ho_so_phuong_thuc_2.txt',\n",
       "  'cong_thuc_tinh_diem_xet_tuyen_tung_phuong_thuc.txt',\n",
       "  'giai_hoc_sinh_gioi.txt',\n",
       "  'phuong_thuc_6.txt',\n",
       "  'thoi_gian_dang_ky_xet_tuyen.txt',\n",
       "  'doi_tuong_tuyen_sinh.txt',\n",
       "  'thoi_gian_xet_tuyen_tung_phuong_thuc.txt',\n",
       "  'ho_so_doi_tuong_uu_tien.txt',\n",
       "  'thoi_gian_nop_kinh_phi_xet_tuyen.txt',\n",
       "  'cac_phuong_thuc_xet_tuyen.txt',\n",
       "  'quy_trinh_dang_ky_va_nop_ho_so_phuong_thuc_1.txt',\n",
       "  'phuong_thuc_4.txt',\n",
       "  'dia_diem_thoi_gian_thong_bao_ket_qua.txt',\n",
       "  'ho_so_can_chuan_bi.txt',\n",
       "  'thoi_gian_ket_thuc_xet_tuyen_som.txt',\n",
       "  'phuong_thuc_xet_tuyen_thi_thpt_ma_xet_tuyen.txt',\n",
       "  'cach_tinh_nguong_dam_bao_chat_luong_dau_vao.txt',\n",
       "  'dieu_kien_nop_ho_so_xet_tuyen.txt',\n",
       "  'dia_diem_nop_ho_so.txt',\n",
       "  'cac_nguon_thong_tin_chinh_thuc.txt',\n",
       "  'xet_hoc_ba.txt',\n",
       "  'cong_thuc_tinh_diem_uu_tien.txt',\n",
       "  'quy_doi_diem_chung_chi_quoc_te.txt',\n",
       "  'quy_trinh_dang_ky_va_nop_ho_so_phuong_thuc_5.txt',\n",
       "  'phuong_thuc_1.txt',\n",
       "  'doi_tuong_tuyen_sinh_phuong_thuc_xet_tuyen.txt',\n",
       "  'giay_to_phuong_thuc_6.txt',\n",
       "  'thoi_gian_nop_ho_so_dang_ky.txt',\n",
       "  'thoi_gian_dang_ky_va_dieu_chinh_nguyen_vong.txt',\n",
       "  'phuong_thuc_xet_tuyen_thi_thpt_to_hop_thi_cac_nganh.txt',\n",
       "  'phuong_thuc_5.txt',\n",
       "  'cong_diem_hoc_sinh_gioi_theo_phuong_thuc.txt',\n",
       "  'giay_to_phuong_thuc_4.txt',\n",
       "  'ho_so_yeu_cau_khu_vuc_uu_tien.txt'],\n",
       " 'diem_chuan_cua_truong_dai_hoc_ngoai_thuong_(tuan_test)': ['diem_chuan_2024.txt'],\n",
       " 'hoc_phi': []}"
      ]
     },
     "execution_count": 7,
     "metadata": {},
     "output_type": "execute_result"
    }
   ],
   "source": [
    "res = {}\n",
    "x = []\n",
    "for i in folders:\n",
    "    res[i] = os.listdir(f\"./data_137/{i}\")\n",
    "    x += os.listdir(f\"./data_137/{i}\")\n",
    "res"
   ]
  },
  {
   "cell_type": "code",
   "execution_count": 9,
   "metadata": {},
   "outputs": [
    {
     "data": {
      "text/plain": [
       "['chi_tieu_chi_tiet_cua_tung_phuong_thuc_xet_tuyen.txt',\n",
       " 'chi_tieu_tuyen_sinh.txt',\n",
       " 'co_hoi_viec_lam_cac_nganh.txt',\n",
       " 'ty_le_viec_lam.txt',\n",
       " 'co_hoi_nghe_nghiep.txt',\n",
       " 'cac_nganh_clc.txt',\n",
       " 'nganh_to_hop_d03.txt',\n",
       " 'nganh_hoc_hot_2023.txt',\n",
       " 'danh_sach_cac_nganh.txt',\n",
       " 'cac_nganh_chuong_trinh_tien_tien.txt',\n",
       " 'cac_nganh_moi_2024.txt',\n",
       " 'nganh_to_hop_a00_a01.txt',\n",
       " 'cac_chuong_trinh_dao_tao.txt',\n",
       " 'cac_chuong_trinh_lien_ket_quoc_te.txt',\n",
       " 'nganh_to_hop_d07.txt',\n",
       " 'cac_chuong_trinh_tieu_chuan.txt',\n",
       " 'nganh_to_hop_d06.txt',\n",
       " 'nganh_hoc_hot_2024.txt',\n",
       " 'nganh_to_hop_d04.txt',\n",
       " 'nganh_to_hop_d01.txt',\n",
       " 'chinh_sach_hoc_bong.txt',\n",
       " 'co_so_vat_chat_huong_dan_dang_ky_ky_tuc_xa.txt',\n",
       " 'co_so_dao_tao.txt',\n",
       " 'chinh_sach_uu_tien.txt',\n",
       " 'chuong_trinh_dao_tao_cac_nganh.txt',\n",
       " 'cac_linh_vuc_dao_tao.txt',\n",
       " 'thong_tin_truong.txt',\n",
       " 'so_luong_sinh_vien.txt',\n",
       " 'gioi_thieu_cac_vien_khoa.txt',\n",
       " 'diem_cong_doi_tuong_uu_tien.txt',\n",
       " 'doi_tuong_uu_tien.txt',\n",
       " 'diem_uu_tien_doi_tuong_chinh_sach_khu_vuc.txt',\n",
       " 'dieu_kien_le_phi_uu_tien_mien_giam_ho_tro.txt',\n",
       " 'khu_vuc_uu_tien.txt',\n",
       " 'diem_cong_khu_vuc_uu_tien.txt',\n",
       " 'thoi_gian_cong_bo_ket_qua_xet_tuyen_som.txt',\n",
       " 'doi_tuong_tuyen_thang.txt',\n",
       " 'giay_to_phuong_thuc_1.txt',\n",
       " 'giay_to_phuong_thuc_3.txt',\n",
       " 'phuong_thuc_3.txt',\n",
       " 'giay_to_phuong_thuc_5.txt',\n",
       " 'quy_trinh_dang_ky_va_nop_ho_so_phuong_thuc_3.txt',\n",
       " 'phuong_thuc_2.txt',\n",
       " 'ho_so_hop_le.txt',\n",
       " 'giay_to_phuong_thuc_2.txt',\n",
       " 'quy_trinh_dang_ky_va_nop_ho_so_phuong_thuc_2.txt',\n",
       " 'cong_thuc_tinh_diem_xet_tuyen_tung_phuong_thuc.txt',\n",
       " 'giai_hoc_sinh_gioi.txt',\n",
       " 'phuong_thuc_6.txt',\n",
       " 'thoi_gian_dang_ky_xet_tuyen.txt',\n",
       " 'doi_tuong_tuyen_sinh.txt',\n",
       " 'thoi_gian_xet_tuyen_tung_phuong_thuc.txt',\n",
       " 'ho_so_doi_tuong_uu_tien.txt',\n",
       " 'thoi_gian_nop_kinh_phi_xet_tuyen.txt',\n",
       " 'cac_phuong_thuc_xet_tuyen.txt',\n",
       " 'quy_trinh_dang_ky_va_nop_ho_so_phuong_thuc_1.txt',\n",
       " 'phuong_thuc_4.txt',\n",
       " 'dia_diem_thoi_gian_thong_bao_ket_qua.txt',\n",
       " 'ho_so_can_chuan_bi.txt',\n",
       " 'thoi_gian_ket_thuc_xet_tuyen_som.txt',\n",
       " 'phuong_thuc_xet_tuyen_thi_thpt_ma_xet_tuyen.txt',\n",
       " 'cach_tinh_nguong_dam_bao_chat_luong_dau_vao.txt',\n",
       " 'dieu_kien_nop_ho_so_xet_tuyen.txt',\n",
       " 'dia_diem_nop_ho_so.txt',\n",
       " 'cac_nguon_thong_tin_chinh_thuc.txt',\n",
       " 'xet_hoc_ba.txt',\n",
       " 'cong_thuc_tinh_diem_uu_tien.txt',\n",
       " 'quy_doi_diem_chung_chi_quoc_te.txt',\n",
       " 'quy_trinh_dang_ky_va_nop_ho_so_phuong_thuc_5.txt',\n",
       " 'phuong_thuc_1.txt',\n",
       " 'doi_tuong_tuyen_sinh_phuong_thuc_xet_tuyen.txt',\n",
       " 'giay_to_phuong_thuc_6.txt',\n",
       " 'thoi_gian_nop_ho_so_dang_ky.txt',\n",
       " 'thoi_gian_dang_ky_va_dieu_chinh_nguyen_vong.txt',\n",
       " 'phuong_thuc_xet_tuyen_thi_thpt_to_hop_thi_cac_nganh.txt',\n",
       " 'phuong_thuc_5.txt',\n",
       " 'cong_diem_hoc_sinh_gioi_theo_phuong_thuc.txt',\n",
       " 'giay_to_phuong_thuc_4.txt',\n",
       " 'ho_so_yeu_cau_khu_vuc_uu_tien.txt',\n",
       " 'diem_chuan_2024.txt']"
      ]
     },
     "execution_count": 9,
     "metadata": {},
     "output_type": "execute_result"
    }
   ],
   "source": [
    "x"
   ]
  },
  {
   "cell_type": "code",
   "execution_count": 3,
   "metadata": {},
   "outputs": [
    {
     "data": {
      "text/plain": [
       "['chi_tieu_chi_tiet_cua_tung_phuong_thuc_xet_tuyen.txt',\n",
       " 'chi_tieu_tuyen_sinh.txt']"
      ]
     },
     "execution_count": 3,
     "metadata": {},
     "output_type": "execute_result"
    }
   ],
   "source": [
    "os.listdir(\"./data_137/chi_tieu_tuyen_sinh/\")"
   ]
  }
 ],
 "metadata": {
  "kernelspec": {
   "display_name": "llm-env",
   "language": "python",
   "name": "python3"
  },
  "language_info": {
   "codemirror_mode": {
    "name": "ipython",
    "version": 3
   },
   "file_extension": ".py",
   "mimetype": "text/x-python",
   "name": "python",
   "nbconvert_exporter": "python",
   "pygments_lexer": "ipython3",
   "version": "3.11.7"
  }
 },
 "nbformat": 4,
 "nbformat_minor": 2
}
